{
 "cells": [
  {
   "cell_type": "markdown",
   "id": "24ee0006",
   "metadata": {},
   "source": [
    "## Homework"
   ]
  },
  {
   "cell_type": "markdown",
   "id": "d4a0d015",
   "metadata": {},
   "source": [
    "Follow the example from the previous notebook Linear Regression using SGD and build a loop that properly finds the centers of these 4 clusters using k-means."
   ]
  },
  {
   "cell_type": "markdown",
   "id": "332b25bb",
   "metadata": {},
   "source": [
    "## Data"
   ]
  },
  {
   "cell_type": "code",
   "execution_count": null,
   "id": "e61609cb",
   "metadata": {},
   "outputs": [],
   "source": [
    "Construct a 2D array of (x,y) points where x is the sale price and y is Grliving area"
   ]
  },
  {
   "cell_type": "code",
   "execution_count": 34,
   "id": "8b1b39f6",
   "metadata": {},
   "outputs": [
    {
     "name": "stdout",
     "output_type": "stream",
     "text": [
      "[[  1262 181500]\n",
      " [  2090 200000]\n",
      " [  1077 118000]\n",
      " ...\n",
      " [  2340 266500]\n",
      " [  1078 142125]\n",
      " [  1256 147500]]\n"
     ]
    }
   ],
   "source": [
    "import pandas as pd\n",
    "import numpy as np\n",
    "from sklearn.datasets import make_blobs\n",
    "import matplotlib.pyplot as plt\n",
    "import numpy as np\n",
    "import time\n",
    "import IPython.display as ipydis\n",
    "npoints = 400\n",
    "df = pd.read_csv('slimmed_realestate_data.csv')\n",
    "#print(data)\n",
    "data = []\n",
    "#m = numpy.zeros((len(uName), len(uBook)))\n",
    "#arr=[]\n",
    "for ind in df.index:\n",
    "    #t=[df['SalePrice'][ind], df['GrLivArea'][ind]]\n",
    "    t=[df['GrLivArea'][ind],df['SalePrice'][ind]]\n",
    "    data.append(t)\n",
    "#print(data)\n",
    "x=np.asarray(data)\n",
    "print(x)"
   ]
  },
  {
   "cell_type": "code",
   "execution_count": 35,
   "id": "58053ed9",
   "metadata": {},
   "outputs": [],
   "source": [
    "def assign_labels(x,c):\n",
    "   # centroids are shape [N,2]\n",
    "   # x are shape [npoints,2]\n",
    "   # add middle index to centroids to properly broadcast in math operations\n",
    "    c = c[:,np.newaxis,:] # [N,1,2]\n",
    "   \n",
    "   # calculate (x - x')**2 and (y - y')**2\n",
    "   # x is shape [npoints,2], c is [N,1,2] results in an array of shape: [N,npoints,2]\n",
    "    dist2 = (x - c)**2\n",
    "   \n",
    "   # calculate (x - x')**2 + (y - y')**2\n",
    "    dist2 = dist2.sum(axis=2) # [N,npoints]\n",
    "   \n",
    "   # out of the N distances, return the index (0-(N-1)) of the one that is the minimum.\n",
    "    label = np.argmin(dist2,axis=0) # [npoints]\n",
    "\n",
    "    return label\n",
    "\n",
    "\n",
    "def initialize_centroids(x,N):\n",
    "    x_indices = np.random.choice(np.arange(0,x.shape[0]),N)\n",
    "    centroids = x[x_indices]\n",
    "    return centroids\n",
    "\n",
    "def get_new_centroids(x, labels, N):\n",
    "    \"\"\"returns the new centroids assigned from the points closest to them\"\"\"\n",
    "    return np.array([x[labels==k].mean(axis=0) for k in range(N)])"
   ]
  },
  {
   "cell_type": "code",
   "execution_count": 37,
   "id": "c1ee983d",
   "metadata": {},
   "outputs": [
    {
     "name": "stdout",
     "output_type": "stream",
     "text": [
      "centroids unchanged as of step 6\n"
     ]
    },
    {
     "data": {
      "text/plain": [
       "Text(0.5, 1.0, 'step 6')"
      ]
     },
     "execution_count": 37,
     "metadata": {},
     "output_type": "execute_result"
    },
    {
     "data": {
      "image/png": "[encoded data removed]",
      "text/plain": [
       "<Figure size 432x288 with 1 Axes>"
      ]
     },
     "metadata": {
      "needs_background": "light"
     },
     "output_type": "display_data"
    }
   ],
   "source": [
    "\n",
    "\n",
    "delta=0.01\n",
    "N=4\n",
    "last_centroids = initialize_centroids(x,N)\n",
    "last_labels = assign_labels(x,last_centroids)\n",
    "\n",
    "plt.scatter(x[:, 0], x[:, 1], c=last_labels, s=40, cmap='viridis')\n",
    "plt.title('step %d' % -1)\n",
    "plt.show()\n",
    "time.sleep(1)\n",
    "ipydis.clear_output(wait=True)\n",
    "\n",
    "for step in range(100):\n",
    "    centroids = get_new_centroids(x,last_labels,N)\n",
    "    labels = assign_labels(x,centroids)\n",
    "\n",
    "   # test if centroids have stopped moving\n",
    "    if np.all((last_centroids - centroids) < delta):\n",
    "        print('centroids unchanged as of step %d' % step)\n",
    "        break\n",
    "    elif np.all(labels == last_labels):\n",
    "        print('point labels unchanged as of step %d' % step)\n",
    "        break\n",
    "    else:\n",
    "        last_labels = labels\n",
    "        last_centroids = centroids\n",
    "\n",
    "plt.scatter(x[:, 0], x[:, 1], c=last_labels, s=40, cmap='viridis')\n",
    "plt.title('step %d' % step)"
   ]
  },
  {
   "cell_type": "code",
   "execution_count": null,
   "id": "99a0185e",
   "metadata": {},
   "outputs": [],
   "source": []
  }
 ],
 "metadata": {
  "kernelspec": {
   "display_name": "conda/2022-07-01",
   "language": "python",
   "name": "conda-2022-07-01"
  },
  "language_info": {
   "codemirror_mode": {
    "name": "ipython",
    "version": 3
   },
   "file_extension": ".py",
   "mimetype": "text/x-python",
   "name": "python",
   "nbconvert_exporter": "python",
   "pygments_lexer": "ipython3",
   "version": "3.8.13"
  }
 },
 "nbformat": 4,
 "nbformat_minor": 5
}
